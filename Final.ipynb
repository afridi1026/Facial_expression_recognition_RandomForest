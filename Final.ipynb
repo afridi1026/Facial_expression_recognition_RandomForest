{
 "cells": [
  {
   "cell_type": "code",
   "execution_count": 1,
   "id": "721bcbed-a057-4acc-bd25-f6c70e4aeb93",
   "metadata": {},
   "outputs": [],
   "source": [
    "import pandas as pd\n",
    "import numpy as np\n",
    "import cv2\n",
    "import glob"
   ]
  },
  {
   "cell_type": "code",
   "execution_count": 86,
   "id": "b4ab963a-f876-45a6-a501-720cf0f7e47d",
   "metadata": {},
   "outputs": [],
   "source": [
    "###  Checking if there is any other file except jpg in each folder\n",
    "\n",
    "face_expressions_folders_path = glob.glob(\"Dataset/*\")\n",
    "for path in face_expressions_folders_path:\n",
    "    images_path = glob.glob(path+\"/*\")\n",
    "    for image in images_path:\n",
    "        if(image.endswith('jpg')):\n",
    "            pass\n",
    "        else:\n",
    "            print(image)\n"
   ]
  },
  {
   "cell_type": "code",
   "execution_count": 101,
   "id": "11b07fe7-232f-45a7-a6d9-4418bc713950",
   "metadata": {},
   "outputs": [],
   "source": [
    "###  Displaying a random image\n",
    "\n",
    "face_expression_images = glob.glob(face_expressions_folders_path[0]+\"/*\")\n",
    "img = cv2.imread(face_expression_images[0])\n",
    "cv2.imshow(\"img\",img)\n",
    "cv2.waitKey()\n",
    "cv2.destroyAllWindows()"
   ]
  },
  {
   "cell_type": "code",
   "execution_count": 90,
   "id": "4bef15f4-6afd-498a-be08-672d844200db",
   "metadata": {},
   "outputs": [],
   "source": []
  },
  {
   "cell_type": "code",
   "execution_count": 93,
   "id": "34441ba8-812a-4566-b921-b37575bc2758",
   "metadata": {},
   "outputs": [],
   "source": [
    "X = []              ##  Initialising an empty list to collect array of images\n",
    "y = []              ##  Initialising an empty list to collect target values of each image\n",
    "\n",
    "for path in face_expressions_folders_path:                            # Reading each folder's path\n",
    "    face_expression_images = glob.glob(path+\"/*\")                     # For each folder path, reading the path of all the images in that folder\n",
    "    for image in face_expression_images:                              # Looping through each image in every folder\n",
    "        img = cv2.imread(image)                                            \n",
    "        img = cv2.resize(img,(48,48))\n",
    "        gray = cv2.cvtColor(img,cv2.COLOR_BGR2GRAY)\n",
    "        gray = gray.flatten()                                         # Flattening the image and converting it to 2D array\n",
    "        gray = gray/255\n",
    "        X.append(gray)\n",
    "        y.append(path.split('\\\\')[-1])                                # Appending the name of facial expression against each image by trimming it from folder path\n",
    "\n",
    "        "
   ]
  },
  {
   "cell_type": "code",
   "execution_count": 102,
   "id": "9024fbac-bc91-402d-bb46-8023690541a2",
   "metadata": {},
   "outputs": [
    {
     "data": {
      "text/plain": [
       "Counter({'angry': 500,\n",
       "         'disgust': 500,\n",
       "         'fear': 500,\n",
       "         'happy': 500,\n",
       "         'sad': 500,\n",
       "         'surprise': 500})"
      ]
     },
     "execution_count": 102,
     "metadata": {},
     "output_type": "execute_result"
    }
   ],
   "source": [
    "from collections import Counter\n",
    "image_count = Counter(y)           # Getting image count \n",
    "image_count"
   ]
  },
  {
   "cell_type": "code",
   "execution_count": 2,
   "id": "bbfd04c1-eef9-4737-8ae8-aa2c24cacd41",
   "metadata": {},
   "outputs": [],
   "source": [
    "from sklearn.linear_model import LogisticRegression\n",
    "from sklearn.model_selection import train_test_split\n",
    "from sklearn.decomposition import PCA\n",
    "from sklearn.metrics import precision_score"
   ]
  },
  {
   "cell_type": "code",
   "execution_count": 152,
   "id": "3bba88e0-62bd-48a9-b360-e14d3c957baa",
   "metadata": {},
   "outputs": [],
   "source": [
    "X_train, X_test, y_train, y_test = train_test_split(X,y,random_state=10,train_size=0.75,test_size=0.25)"
   ]
  },
  {
   "cell_type": "code",
   "execution_count": 159,
   "id": "6a3a4693-0614-4d99-869a-56ece5d00aa5",
   "metadata": {},
   "outputs": [],
   "source": [
    "from sklearn.ensemble import RandomForestClassifier\n",
    "#pca = PCA(0.9)\n",
    "#X_train = pca.fit_transform(X_train)\n",
    "\n",
    "#train_score = []\n",
    "#test_score = []\n",
    "#for i in range(25,100):\n",
    "    #model = RandomForestClassifier(n_estimators=i)\n",
    "    #model.fit(X_train, y_train)\n",
    "\n",
    "    #X_test = pca.transform(X_test)\n",
    "    #pred_test = model.predict(X_test)\n",
    "    #train_score.append(model.score(X_train,y_train))\n",
    "    #test_score.append(model.score(X_test,y_test))"
   ]
  },
  {
   "cell_type": "code",
   "execution_count": 178,
   "id": "89a064c2-5a8c-4e4a-8d83-9fb4da8b84ea",
   "metadata": {},
   "outputs": [
    {
     "name": "stdout",
     "output_type": "stream",
     "text": [
      "Training score :  1.0\n",
      "Testing score :  0.37466666666666665\n"
     ]
    }
   ],
   "source": [
    "model = RandomForestClassifier(n_estimators=79)\n",
    "model.fit(X_train, y_train)\n",
    "pred_test = model.predict(X_test)\n",
    "print('Training score : ',(model.score(X_train,y_train)))\n",
    "print('Testing score : ',(model.score(X_test,y_test)))"
   ]
  },
  {
   "cell_type": "markdown",
   "id": "7d0564e1-b341-4fc6-9749-0c5675616ab9",
   "metadata": {},
   "source": [
    "## Testing with webcam"
   ]
  },
  {
   "cell_type": "code",
   "execution_count": 209,
   "id": "bde04fcf-be4d-4608-a6ec-3fd589fbb046",
   "metadata": {},
   "outputs": [],
   "source": [
    "vdo = cv2.VideoCapture(0)                   # Enabling webcam\n",
    "\n",
    "faceclf = cv2.CascadeClassifier(\"D:/Trainings/python_with_ML_Ducat_INdustrial_training/resource/jupyter/DATASETS/haar/haarcascade_frontalface_default.xml\")\n",
    "\n",
    "while(True):\n",
    "    flag, img = vdo.read()                                        ## Reading the image from webcam \n",
    "    gray = cv2.cvtColor(img,cv2.COLOR_BGR2GRAY)\n",
    "    gray = cv2.flip(gray,1)\n",
    "    img = cv2.flip(img,1)                                         ## Flipping the image read so that it can be displayed without mirror reflection\n",
    "    \n",
    "    if(flag==False):\n",
    "        break\n",
    "    \n",
    "    faces = faceclf.detectMultiScale(gray,minNeighbors = 10, scaleFactor = 1.4)              ## Detecting the face from webcam stream\n",
    "    \n",
    "    for x,y,w,h in faces:                           ## Cropping out the face from the image\n",
    "        face = gray[y:y+h,x:x+w]\n",
    "        face = cv2.resize(face,(48,48))\n",
    "        face = face.flatten()\n",
    "        face = face/255\n",
    "        pred = model.predict([face])                ## Predicting the image\n",
    "        \n",
    "        cv2.rectangle(img,(x,y),(x+w,y+h),(0,0,255),2)                                     ## Marking face and writing the predicted expression on image\n",
    "        cv2.putText(img,pred[0],(x,y+10),cv2.FONT_HERSHEY_PLAIN,2,(255,255,255),2)\n",
    "        \n",
    "    cv2.imshow(\"image\",img)\n",
    "    k = cv2.waitKey(1)\n",
    "    if (k == ord('a')):\n",
    "        break\n",
    "        \n",
    "cv2.destroyAllWindows()\n",
    "vdo.release()\n",
    "    \n",
    "    \n",
    "    \n",
    "    \n",
    "    \n",
    "    "
   ]
  }
 ],
 "metadata": {
  "kernelspec": {
   "display_name": "Python 3",
   "language": "python",
   "name": "python3"
  },
  "language_info": {
   "codemirror_mode": {
    "name": "ipython",
    "version": 3
   },
   "file_extension": ".py",
   "mimetype": "text/x-python",
   "name": "python",
   "nbconvert_exporter": "python",
   "pygments_lexer": "ipython3",
   "version": "3.8.8"
  }
 },
 "nbformat": 4,
 "nbformat_minor": 5
}
